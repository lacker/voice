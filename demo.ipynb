{
 "cells": [
  {
   "cell_type": "code",
   "execution_count": 3,
   "id": "07b84b53-e421-4f52-b2c8-a21087e456b4",
   "metadata": {},
   "outputs": [],
   "source": [
    "import torch\n",
    "from TTS.api import TTS\n",
    "import sounddevice as sd\n",
    "import numpy as np"
   ]
  },
  {
   "cell_type": "code",
   "execution_count": 2,
   "id": "f6f5be02-786a-4d3e-a0b2-9fe1dfd038aa",
   "metadata": {},
   "outputs": [
    {
     "name": "stdout",
     "output_type": "stream",
     "text": [
      " > Downloading model to /Users/lacker/Library/Application Support/tts/tts_models--en--ljspeech--glow-tts\n"
     ]
    },
    {
     "name": "stderr",
     "output_type": "stream",
     "text": [
      " 99%|███████████████████████████████████████████████████████████████████████▍| 341M/344M [00:03<00:00, 111MiB/s]"
     ]
    },
    {
     "name": "stdout",
     "output_type": "stream",
     "text": [
      " > Model's license - MPL\n",
      " > Check https://www.mozilla.org/en-US/MPL/2.0/ for more info.\n",
      " > Downloading model to /Users/lacker/Library/Application Support/tts/vocoder_models--en--ljspeech--multiband-melgan\n"
     ]
    },
    {
     "name": "stderr",
     "output_type": "stream",
     "text": [
      "\n",
      "100%|███████████████████████████████████████████████████████████████████████| 344M/344M [00:03<00:00, 88.7MiB/s]\u001b[A\n",
      "\n",
      " 10%|██████▊                                                              | 8.18M/82.8M [00:00<00:00, 81.8MiB/s]\u001b[A\n",
      " 24%|█████████████████                                                     | 20.2M/82.8M [00:00<00:00, 104MiB/s]\u001b[A\n",
      " 39%|███████████████████████████▍                                          | 32.4M/82.8M [00:00<00:00, 110MiB/s]\u001b[A\n",
      " 54%|█████████████████████████████████████▌                                | 44.4M/82.8M [00:00<00:00, 114MiB/s]\u001b[A\n",
      " 67%|███████████████████████████████████████████████▏                      | 55.8M/82.8M [00:00<00:00, 114MiB/s]\u001b[A\n",
      " 83%|█████████████████████████████████████████████████████████▊            | 68.4M/82.8M [00:00<00:00, 118MiB/s]\u001b[A\n",
      " 97%|████████████████████████████████████████████████████████████████████  | 80.5M/82.8M [00:00<00:00, 118MiB/s]\u001b[A"
     ]
    },
    {
     "name": "stdout",
     "output_type": "stream",
     "text": [
      " > Model's license - MPL\n",
      " > Check https://www.mozilla.org/en-US/MPL/2.0/ for more info.\n",
      " > Using model: glow_tts\n",
      " > Setting up Audio Processor...\n",
      " | > sample_rate:22050\n",
      " | > resample:False\n",
      " | > num_mels:80\n",
      " | > log_func:np.log10\n",
      " | > min_level_db:-100\n",
      " | > frame_shift_ms:None\n",
      " | > frame_length_ms:None\n",
      " | > ref_level_db:0\n",
      " | > fft_size:1024\n",
      " | > power:1.1\n",
      " | > preemphasis:0.0\n",
      " | > griffin_lim_iters:60\n",
      " | > signal_norm:False\n",
      " | > symmetric_norm:True\n",
      " | > mel_fmin:50.0\n",
      " | > mel_fmax:7600.0\n",
      " | > pitch_fmin:1.0\n",
      " | > pitch_fmax:640.0\n",
      " | > spec_gain:1.0\n",
      " | > stft_pad_mode:reflect\n",
      " | > max_norm:1.0\n",
      " | > clip_norm:True\n",
      " | > do_trim_silence:True\n",
      " | > trim_db:60\n",
      " | > do_sound_norm:False\n",
      " | > do_amp_to_db_linear:True\n",
      " | > do_amp_to_db_mel:True\n",
      " | > do_rms_norm:False\n",
      " | > db_level:None\n",
      " | > stats_path:None\n",
      " | > base:10\n",
      " | > hop_length:256\n",
      " | > win_length:1024\n",
      " > Vocoder Model: multiband_melgan\n",
      " > Setting up Audio Processor...\n",
      " | > sample_rate:22050\n",
      " | > resample:False\n",
      " | > num_mels:80\n",
      " | > log_func:np.log10\n",
      " | > min_level_db:-100\n",
      " | > frame_shift_ms:None\n",
      " | > frame_length_ms:None\n",
      " | > ref_level_db:0\n",
      " | > fft_size:1024\n",
      " | > power:1.5\n",
      " | > preemphasis:0.0\n",
      " | > griffin_lim_iters:60\n",
      " | > signal_norm:True\n",
      " | > symmetric_norm:True\n",
      " | > mel_fmin:50.0\n",
      " | > mel_fmax:7600.0\n",
      " | > pitch_fmin:0.0\n",
      " | > pitch_fmax:640.0\n",
      " | > spec_gain:1.0\n",
      " | > stft_pad_mode:reflect\n",
      " | > max_norm:4.0\n",
      " | > clip_norm:True\n",
      " | > do_trim_silence:True\n",
      " | > trim_db:60\n",
      " | > do_sound_norm:False\n",
      " | > do_amp_to_db_linear:True\n",
      " | > do_amp_to_db_mel:True\n",
      " | > do_rms_norm:False\n",
      " | > db_level:None\n",
      " | > stats_path:/Users/lacker/Library/Application Support/tts/vocoder_models--en--ljspeech--multiband-melgan/scale_stats.npy\n",
      " | > base:10\n",
      " | > hop_length:256\n",
      " | > win_length:1024\n",
      " > Generator Model: multiband_melgan_generator\n",
      " > Discriminator Model: melgan_multiscale_discriminator\n"
     ]
    },
    {
     "name": "stderr",
     "output_type": "stream",
     "text": [
      "/Users/lacker/voice/.venv/lib/python3.11/site-packages/TTS/utils/io.py:54: FutureWarning: You are using `torch.load` with `weights_only=False` (the current default value), which uses the default pickle module implicitly. It is possible to construct malicious pickle data which will execute arbitrary code during unpickling (See https://github.com/pytorch/pytorch/blob/main/SECURITY.md#untrusted-models for more details). In a future release, the default value for `weights_only` will be flipped to `True`. This limits the functions that could be executed during unpickling. Arbitrary objects will no longer be allowed to be loaded via this mode unless they are explicitly allowlisted by the user via `torch.serialization.add_safe_globals`. We recommend you start setting `weights_only=True` for any use case where you don't have full control of the loaded file. Please open an issue on GitHub for any issues related to this experimental feature.\n",
      "  return torch.load(f, map_location=map_location, **kwargs)\n",
      "\n",
      "100%|██████████████████████████████████████████████████████████████████████| 82.8M/82.8M [00:16<00:00, 118MiB/s]\u001b[A"
     ]
    }
   ],
   "source": [
    "tts = TTS(model_name=\"tts_models/en/ljspeech/glow-tts\")"
   ]
  },
  {
   "cell_type": "code",
   "execution_count": 14,
   "id": "a0ec3d56-ba6a-4bf9-a55c-901a74d3391b",
   "metadata": {},
   "outputs": [],
   "source": [
    "def say(s):\n",
    "    output = tts.tts(s)\n",
    "    audio = np.array(output)  # Ensure it's a NumPy array\n",
    "    sr = tts.synthesizer.output_sample_rate  # Get the sample rate from the synthesizer\n",
    "    sd.play(audio, samplerate=sr)\n",
    "    sd.wait()"
   ]
  },
  {
   "cell_type": "code",
   "execution_count": 15,
   "id": "f623792e-71fb-4e37-a16f-b20c40df0304",
   "metadata": {},
   "outputs": [
    {
     "name": "stdout",
     "output_type": "stream",
     "text": [
      " > Text splitted to sentences.\n",
      "['Hello Zoe!']\n",
      " > Processing time: 0.06058907508850098\n",
      " > Real-time factor: 0.04240696755019828\n"
     ]
    }
   ],
   "source": [
    "say(\"Hello Zoe!\")"
   ]
  },
  {
   "cell_type": "code",
   "execution_count": null,
   "id": "95bb5152-bc35-48c0-ba32-76d257c24ead",
   "metadata": {},
   "outputs": [],
   "source": []
  }
 ],
 "metadata": {
  "kernelspec": {
   "display_name": "Python 3 (ipykernel)",
   "language": "python",
   "name": "python3"
  },
  "language_info": {
   "codemirror_mode": {
    "name": "ipython",
    "version": 3
   },
   "file_extension": ".py",
   "mimetype": "text/x-python",
   "name": "python",
   "nbconvert_exporter": "python",
   "pygments_lexer": "ipython3",
   "version": "3.11.10"
  }
 },
 "nbformat": 4,
 "nbformat_minor": 5
}
